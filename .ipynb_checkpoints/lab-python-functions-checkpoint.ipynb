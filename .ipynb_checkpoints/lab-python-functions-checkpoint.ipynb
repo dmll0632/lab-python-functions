{
 "cells": [
  {
   "cell_type": "markdown",
   "id": "25d7736c-ba17-4aff-b6bb-66eba20fbf4e",
   "metadata": {},
   "source": [
    "# Lab | Functions"
   ]
  },
  {
   "cell_type": "markdown",
   "id": "0c581062-8967-4d93-b06e-62833222f930",
   "metadata": {
    "tags": []
   },
   "source": [
    "## Exercise: Managing Customer Orders with Functions\n",
    "\n",
    "In the previous exercise, you improved the code for managing customer orders by using loops and flow control. Now, let's take it a step further and refactor the code by introducing functions.\n",
    "\n",
    "Follow the steps below to complete the exercise:\n",
    "\n",
    "1. Define a function named `initialize_inventory` that takes `products` as a parameter. Inside the function, implement the code for initializing the inventory dictionary using a loop and user input.\n",
    "\n",
    "2. Define a function named `get_customer_orders` that takes no parameters. Inside the function, implement the code for prompting the user to enter the product names using a loop. The function should return the `customer_orders` set.\n",
    "\n",
    "3. Define a function named `update_inventory` that takes `customer_orders` and `inventory` as parameters. Inside the function, implement the code for updating the inventory dictionary based on the customer orders.\n",
    "\n",
    "4. Define a function named `calculate_order_statistics` that takes `customer_orders` and `products` as parameters. Inside the function, implement the code for calculating the order statistics (total products ordered, and percentage of unique products ordered). The function should return these values.\n",
    "\n",
    "5. Define a function named `print_order_statistics` that takes `order_statistics` as a parameter. Inside the function, implement the code for printing the order statistics.\n",
    "\n",
    "6. Define a function named `print_updated_inventory` that takes `inventory` as a parameter. Inside the function, implement the code for printing the updated inventory.\n",
    "\n",
    "7. Call the functions in the appropriate sequence to execute the program and manage customer orders.\n",
    "\n",
    "Hints for functions:\n",
    "\n",
    "- Consider the input parameters required for each function and their return values.\n",
    "- Utilize function parameters and return values to transfer data between functions.\n",
    "- Test your functions individually to ensure they work correctly.\n",
    "\n",
    "\n"
   ]
  },
  {
   "cell_type": "code",
   "execution_count": null,
   "id": "f88169af-732f-41a3-a61f-df8e89849361",
   "metadata": {},
   "outputs": [],
   "source": [
    "#1. Define a function named `initialize_inventory` that takes `products` as a parameter.\n",
    "#Inside the function, implement the code for initializing the inventory dictionary using a loop and user input."
   ]
  },
  {
   "cell_type": "code",
   "execution_count": 79,
   "id": "4fdc79ab-f3ed-49cf-9b2a-8e2a44d6c041",
   "metadata": {},
   "outputs": [],
   "source": [
    "inventory = {}\n",
    "products =[\"t-shirt\", \"mug\", \"hat\", \"book\", \"keychain\"]"
   ]
  },
  {
   "cell_type": "code",
   "execution_count": 146,
   "id": "8a7b9f37-e059-4a08-93ef-648d2a948bcc",
   "metadata": {},
   "outputs": [],
   "source": [
    "\n",
    "def initialize_inventory() :\n",
    "    for item in products:\n",
    "        howmany = int( input(\" How many products do we have from \" + item))\n",
    "        inventory[item] = (howmany)\n",
    "    return inventory"
   ]
  },
  {
   "cell_type": "code",
   "execution_count": null,
   "id": "ddad32b3-a26c-4b1a-a5d6-b45c9678751f",
   "metadata": {},
   "outputs": [],
   "source": []
  },
  {
   "cell_type": "code",
   "execution_count": 147,
   "id": "31ac2d11-46e1-419b-b2b6-549c5f77263e",
   "metadata": {},
   "outputs": [
    {
     "name": "stdin",
     "output_type": "stream",
     "text": [
      " How many products do we have from t-shirt 5\n",
      " How many products do we have from mug 5\n",
      " How many products do we have from hat 5\n",
      " How many products do we have from book 5\n",
      " How many products do we have from keychain 5\n"
     ]
    },
    {
     "data": {
      "text/plain": [
       "{'t-shirt': 5, 'mug': 5, 'hat': 5, 'book': 5, 'keychain': 5}"
      ]
     },
     "execution_count": 147,
     "metadata": {},
     "output_type": "execute_result"
    }
   ],
   "source": [
    "initialize_inventory() \n",
    "\n"
   ]
  },
  {
   "cell_type": "code",
   "execution_count": 148,
   "id": "5f284782-ef2d-4f77-9a78-667680608a19",
   "metadata": {},
   "outputs": [
    {
     "data": {
      "text/plain": [
       "{'t-shirt': 5, 'mug': 5, 'hat': 5, 'book': 5, 'keychain': 5}"
      ]
     },
     "execution_count": 148,
     "metadata": {},
     "output_type": "execute_result"
    }
   ],
   "source": [
    "inventory\n"
   ]
  },
  {
   "cell_type": "code",
   "execution_count": null,
   "id": "839dc3c6-2862-4cfa-a91a-9e78777fd789",
   "metadata": {},
   "outputs": [],
   "source": [
    "#2. Define a function named `get_customer_orders` that takes no parameters. Inside the function, \n",
    "#implement the code for prompting the user to enter the product names using a loop. The function should return the `customer_orders` set.\n"
   ]
  },
  {
   "cell_type": "code",
   "execution_count": 149,
   "id": "0390b725-d25c-4869-beea-bb691e05a826",
   "metadata": {},
   "outputs": [],
   "source": [
    "customer_orders = set()\n",
    "def get_customer_orders():\n",
    "    answer = \"yes\"\n",
    "    while answer == \"yes\":\n",
    "        ordered_item = input(\"Which product do you wanna order?\")\n",
    "        customer_orders.add(ordered_item)\n",
    "        answer = input(\"Would you like to order one more product?\")\n",
    "    return customer_orders"
   ]
  },
  {
   "cell_type": "code",
   "execution_count": 150,
   "id": "70a5e7cf-d8bb-4e23-8301-470416a77ca1",
   "metadata": {},
   "outputs": [
    {
     "name": "stdin",
     "output_type": "stream",
     "text": [
      "Which product do you wanna order? book\n",
      "Would you like to order one more product? yes\n",
      "Which product do you wanna order? mug\n",
      "Would you like to order one more product? nb\n"
     ]
    },
    {
     "data": {
      "text/plain": [
       "{'book', 'mug'}"
      ]
     },
     "execution_count": 150,
     "metadata": {},
     "output_type": "execute_result"
    }
   ],
   "source": [
    "get_customer_orders()"
   ]
  },
  {
   "cell_type": "code",
   "execution_count": 151,
   "id": "1d5440df-b1dc-4a40-a48e-099081afeac2",
   "metadata": {},
   "outputs": [
    {
     "data": {
      "text/plain": [
       "{'book', 'mug'}"
      ]
     },
     "execution_count": 151,
     "metadata": {},
     "output_type": "execute_result"
    }
   ],
   "source": [
    "customer_orders\n"
   ]
  },
  {
   "cell_type": "code",
   "execution_count": 98,
   "id": "a120c40c-6ada-4a4a-ade6-1c1997efa3a6",
   "metadata": {},
   "outputs": [],
   "source": [
    "#3. Define a function named `update_inventory` that takes `customer_orders` and `inventory` as parameters. \n",
    "#Inside the function, implement the code for updating the inventory dictionary based on the customer orders.\n"
   ]
  },
  {
   "cell_type": "code",
   "execution_count": 152,
   "id": "5c895d26-e07c-41dc-b86e-cdc68cdbafe7",
   "metadata": {},
   "outputs": [],
   "source": [
    "def update_inventory():\n",
    "    for item in customer_orders:\n",
    "        if item in inventory.keys() :\n",
    "            inventory[item] -= 1\n",
    "    return inventory    \n",
    "            "
   ]
  },
  {
   "cell_type": "code",
   "execution_count": 153,
   "id": "f5684cec-96f2-45f0-8606-e379ae34b2be",
   "metadata": {},
   "outputs": [
    {
     "data": {
      "text/plain": [
       "{'t-shirt': 5, 'mug': 4, 'hat': 5, 'book': 4, 'keychain': 5}"
      ]
     },
     "execution_count": 153,
     "metadata": {},
     "output_type": "execute_result"
    }
   ],
   "source": [
    "update_inventory()"
   ]
  },
  {
   "cell_type": "code",
   "execution_count": 43,
   "id": "003507a7-b5c8-496a-b60b-c837b1fff985",
   "metadata": {
    "scrolled": true
   },
   "outputs": [
    {
     "data": {
      "text/plain": [
       "<function dict.keys>"
      ]
     },
     "execution_count": 43,
     "metadata": {},
     "output_type": "execute_result"
    }
   ],
   "source": [
    "#4. Define a function named `calculate_order_statistics` that takes `customer_orders` and `products` as parameters. Inside the function,\n",
    "#implement the code for calculating the order statistics(total products ordered, and percentage of unique products ordered). \n",
    "#The function should return these values."
   ]
  },
  {
   "cell_type": "code",
   "execution_count": 154,
   "id": "61482883-6151-42bc-8bae-d97903dc6f79",
   "metadata": {},
   "outputs": [
    {
     "data": {
      "text/plain": [
       "{'t-shirt': 5, 'mug': 4, 'hat': 5, 'book': 4, 'keychain': 5}"
      ]
     },
     "execution_count": 154,
     "metadata": {},
     "output_type": "execute_result"
    }
   ],
   "source": [
    "inventor"
   ]
  },
  {
   "cell_type": "code",
   "execution_count": 186,
   "id": "6ca13acc-6b82-4226-8704-fb80f6461b05",
   "metadata": {
    "scrolled": true
   },
   "outputs": [
    {
     "ename": "NameError",
     "evalue": "name 'persentage' is not defined",
     "output_type": "error",
     "traceback": [
      "\u001b[1;31m---------------------------------------------------------------------------\u001b[0m",
      "\u001b[1;31mNameError\u001b[0m                                 Traceback (most recent call last)",
      "Cell \u001b[1;32mIn[186], line 11\u001b[0m\n\u001b[0;32m      6\u001b[0m     \u001b[38;5;28;01mreturn\u001b[39;00m persentage , total_order_sum \n\u001b[0;32m      8\u001b[0m calculate_order_statistics(customer_orders, inventory)\n\u001b[1;32m---> 11\u001b[0m persentage\n",
      "\u001b[1;31mNameError\u001b[0m: name 'persentage' is not defined"
     ]
    }
   ],
   "source": [
    "\n",
    "def calculate_order_statistics(customer_orders, inventory) :\n",
    "    total_order_sum = len(customer_orders)\n",
    "    total_product_num = len(inventory.keys())\n",
    "    persentage = (total_order_sum/total_product_num ) * 100\n",
    "    order_statistic = (persentage,total_order_sum)\n",
    "    return persentage , total_order_sum \n",
    "\n",
    "calculate_order_statistics(customer_orders, inventory)\n",
    "\n",
    "\n"
   ]
  },
  {
   "cell_type": "code",
   "execution_count": 179,
   "id": "8126ef55-26de-442d-9c50-edd066878645",
   "metadata": {},
   "outputs": [],
   "source": [
    "#5. Define a function named `print_order_statistics` that takes `order_statistics` as a parameter. \n",
    "#Inside the function, implement the code for printing the order statistics. "
   ]
  },
  {
   "cell_type": "code",
   "execution_count": 180,
   "id": "0bc07aa6-9cb2-4e9e-ac5b-f8b5525443c0",
   "metadata": {},
   "outputs": [],
   "source": [
    "def  print_order_statistics(persentage ,total_order_sum) :\n",
    "    print(f\"The persentage of ordered products {persentage} ,and total quantitiy of ordered product is {total_order_sum} \")\n",
    "  "
   ]
  },
  {
   "cell_type": "code",
   "execution_count": 181,
   "id": "1707ed66-ab05-4741-ac1c-eac24f3b8f10",
   "metadata": {},
   "outputs": [
    {
     "ename": "NameError",
     "evalue": "name 'persentage' is not defined",
     "output_type": "error",
     "traceback": [
      "\u001b[1;31m---------------------------------------------------------------------------\u001b[0m",
      "\u001b[1;31mNameError\u001b[0m                                 Traceback (most recent call last)",
      "Cell \u001b[1;32mIn[181], line 1\u001b[0m\n\u001b[1;32m----> 1\u001b[0m print_order_statistics(persentage,total_order_sum)\n",
      "\u001b[1;31mNameError\u001b[0m: name 'persentage' is not defined"
     ]
    }
   ],
   "source": [
    "  print_order_statistics(persentage,total_order_sum) "
   ]
  },
  {
   "cell_type": "code",
   "execution_count": null,
   "id": "5f40d778-f319-44d2-b03d-a3ba79718682",
   "metadata": {},
   "outputs": [],
   "source": []
  },
  {
   "cell_type": "code",
   "execution_count": null,
   "id": "417d5c4b-30a2-4006-ad5c-af69ac63753e",
   "metadata": {},
   "outputs": [],
   "source": []
  }
 ],
 "metadata": {
  "kernelspec": {
   "display_name": "Python 3 (ipykernel)",
   "language": "python",
   "name": "python3"
  },
  "language_info": {
   "codemirror_mode": {
    "name": "ipython",
    "version": 3
   },
   "file_extension": ".py",
   "mimetype": "text/x-python",
   "name": "python",
   "nbconvert_exporter": "python",
   "pygments_lexer": "ipython3",
   "version": "3.11.7"
  }
 },
 "nbformat": 4,
 "nbformat_minor": 5
}
